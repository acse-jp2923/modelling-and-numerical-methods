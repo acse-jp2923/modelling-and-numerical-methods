{
 "cells": [
  {
   "cell_type": "code",
   "execution_count": 1,
   "metadata": {},
   "outputs": [
    {
     "data": {
      "text/html": [
       "<style>\n",
       "div.optional {\n",
       "    display: block;\n",
       "    background-color: #d7e2ff;\n",
       "    border-color: #d7e2ff;\n",
       "    border-left: 5px solid #d7e2ff;\n",
       "    padding: 0.5em;\n",
       "}\n",
       "div.advanced {\n",
       "    display: block;\n",
       "    background-color: #fff4d7;\n",
       "    border-color: #fff4d7;\n",
       "    border-left: 5px solid #fff4d7;\n",
       "    padding: 0.5em;\n",
       "}\n",
       "</style>\n"
      ],
      "text/plain": [
       "<IPython.core.display.HTML object>"
      ]
     },
     "metadata": {},
     "output_type": "display_data"
    }
   ],
   "source": [
    "%%html\n",
    "<style>\n",
    "div.optional {\n",
    "    display: block;\n",
    "    background-color: #d7e2ff;\n",
    "    border-color: #d7e2ff;\n",
    "    border-left: 5px solid #d7e2ff;\n",
    "    padding: 0.5em;\n",
    "}\n",
    "div.advanced {\n",
    "    display: block;\n",
    "    background-color: #fff4d7;\n",
    "    border-color: #fff4d7;\n",
    "    border-left: 5px solid #fff4d7;\n",
    "    padding: 0.5em;\n",
    "}\n",
    "</style>"
   ]
  },
  {
   "cell_type": "markdown",
   "metadata": {
    "slideshow": {
     "slide_type": "slide"
    }
   },
   "source": [
    "# Modelling & Numerical Methods <a class=\"tocSkip\">\n",
    "\n",
    "## Interpolation & Quadrature 2 <a class=\"tocSkip\">\n",
    "    \n",
    "### Homework Exercises <a class=\"tocSkip\">"
   ]
  },
  {
   "cell_type": "markdown",
   "metadata": {
    "toc": true
   },
   "source": [
    "<h1>Table of Contents<span class=\"tocSkip\"></span></h1>\n",
    "<div class=\"toc\"><ul class=\"toc-item\"><li><span><a href=\"#Homework\" data-toc-modified-id=\"Homework-1\"><span class=\"toc-item-num\">1&nbsp;&nbsp;</span>Homework</a></span><ul class=\"toc-item\"><li><span><a href=\"#Homework---Newton-polynomial-[$\\star$]\" data-toc-modified-id=\"Homework---Newton-polynomial-[$\\star$]-1.1\"><span class=\"toc-item-num\">1.1&nbsp;&nbsp;</span>Homework - Newton polynomial [$\\star$]</a></span></li><li><span><a href=\"#Homework---Hat-functions-and-their-derivatives\" data-toc-modified-id=\"Homework---Hat-functions-and-their-derivatives-1.2\"><span class=\"toc-item-num\">1.2&nbsp;&nbsp;</span>Homework - Hat functions and their derivatives</a></span></li><li><span><a href=\"#Homework---Error-bound-for-polynomial-interpolation-of-the-Runge-function-[$\\star$]\" data-toc-modified-id=\"Homework---Error-bound-for-polynomial-interpolation-of-the-Runge-function-[$\\star$]-1.3\"><span class=\"toc-item-num\">1.3&nbsp;&nbsp;</span>Homework - Error bound for polynomial interpolation of the Runge function [$\\star$]</a></span></li><li><span><a href=\"#Homework---Chebyshev-interpolation-[$\\star$]\" data-toc-modified-id=\"Homework---Chebyshev-interpolation-[$\\star$]-1.4\"><span class=\"toc-item-num\">1.4&nbsp;&nbsp;</span>Homework - Chebyshev interpolation [$\\star$]</a></span></li><li><span><a href=\"#Homework---Chebyshev-polynomials-as-basis-functions-[$\\star\\star$]\" data-toc-modified-id=\"Homework---Chebyshev-polynomials-as-basis-functions-[$\\star\\star$]-1.5\"><span class=\"toc-item-num\">1.5&nbsp;&nbsp;</span>Homework - Chebyshev polynomials as basis functions [$\\star\\star$]</a></span></li><li><span><a href=\"#Homework---Cubic-spline-interpolation-[$\\star\\star$]\" data-toc-modified-id=\"Homework---Cubic-spline-interpolation-[$\\star\\star$]-1.6\"><span class=\"toc-item-num\">1.6&nbsp;&nbsp;</span>Homework - Cubic spline interpolation [$\\star\\star$]</a></span></li><li><span><a href=\"#Homework---Implement-Weddle's-rule\" data-toc-modified-id=\"Homework---Implement-Weddle's-rule-1.7\"><span class=\"toc-item-num\">1.7&nbsp;&nbsp;</span>Homework - Implement Weddle's rule</a></span></li><li><span><a href=\"#Homework---Midpoint-rule-error-[$\\star$]\" data-toc-modified-id=\"Homework---Midpoint-rule-error-[$\\star$]-1.8\"><span class=\"toc-item-num\">1.8&nbsp;&nbsp;</span>Homework - Midpoint rule error [$\\star$]</a></span></li><li><span><a href=\"#Homework---Derive-Simpson's-rule-as-quadratic-fit-[$\\star\\star$]\" data-toc-modified-id=\"Homework---Derive-Simpson's-rule-as-quadratic-fit-[$\\star\\star$]-1.9\"><span class=\"toc-item-num\">1.9&nbsp;&nbsp;</span>Homework - Derive Simpson's rule as quadratic fit [$\\star\\star$]</a></span></li><li><span><a href=\"#Homework---Open-vs-closed-Newton-Cotes-[$\\star\\star$]\" data-toc-modified-id=\"Homework---Open-vs-closed-Newton-Cotes-[$\\star\\star$]-1.10\"><span class=\"toc-item-num\">1.10&nbsp;&nbsp;</span>Homework - Open vs closed Newton-Cotes [$\\star\\star$]</a></span></li><li><span><a href=\"#Homework---Implement-adaptive-quadrature-[$\\star$]\" data-toc-modified-id=\"Homework---Implement-adaptive-quadrature-[$\\star$]-1.11\"><span class=\"toc-item-num\">1.11&nbsp;&nbsp;</span>Homework - Implement adaptive quadrature [$\\star$]</a></span></li><li><span><a href=\"#Homework---Implement-a-&quot;composite&quot;-version-of-Gauss-Legendre-quadrature-[$\\star\\star$]\" data-toc-modified-id=\"Homework---Implement-a-&quot;composite&quot;-version-of-Gauss-Legendre-quadrature-[$\\star\\star$]-1.12\"><span class=\"toc-item-num\">1.12&nbsp;&nbsp;</span>Homework - Implement a \"composite\" version of Gauss-Legendre quadrature [$\\star\\star$]</a></span></li></ul></li></ul></div>"
   ]
  },
  {
   "cell_type": "code",
   "execution_count": 2,
   "metadata": {},
   "outputs": [],
   "source": [
    "%matplotlib inline\n",
    "import numpy as np\n",
    "import matplotlib.pyplot as plt\n",
    "# the following allows us to plot triangles indicating convergence order\n",
    "from mpltools import annotation\n",
    "# as this lecture is about interpolation we will make use of this SciPy library\n",
    "import scipy.interpolate as si\n",
    "import scipy.integrate as integrate\n",
    "\n",
    "# some default font sizes for plots\n",
    "plt.rcParams['font.size'] = 12\n",
    "plt.rcParams['font.family'] = 'sans-serif'\n",
    "plt.rcParams['font.sans-serif'] = ['Arial', 'Dejavu Sans']"
   ]
  },
  {
   "cell_type": "markdown",
   "metadata": {},
   "source": [
    "# Homework"
   ]
  },
  {
   "cell_type": "markdown",
   "metadata": {},
   "source": [
    "<div class=\"optional\">\n",
    "    \n",
    "## Homework - Newton polynomial [$\\star$]\n",
    "\n",
    "From the lecture we defined the Newton polynomial as\n",
    "\n",
    "$$ P_N(x) = a_0 +(x-x_0)a_1 + (x-x_0)(x-x_1)a_2 + \\cdots + (x-x_0)(x-x_1)\\ldots(x-x_{N-1})a_N,$$\n",
    "\n",
    "where $a_0, a_1, \\ldots, a_N$ are our $N+1$ free parameters we need to find using the $N+1$ pieces of information we have in the given data.\n",
    "\n",
    "We introduced the divided difference notation\n",
    "\n",
    "\\begin{alignat*}{2}\n",
    "\\Delta y_i &= \\frac{y_i-y_0}{x_i-x_0},\\;\\;    && i=1,2,\\ldots, N,\\\\[10pt]\n",
    "\\Delta^2 y_i &= \\frac{\\Delta y_i-\\Delta y_1}{x_i-x_1},\\;\\;    && i=2, 3,\\ldots, N,\\\\[10pt]\n",
    "&\\vdots\\\\[5pt]\n",
    "\\Delta^N y_N &= \\frac{\\Delta^{N-1} y_N-\\Delta^{N-1} y_{N-1}}{x_N-x_{N-1}},\n",
    "\\end{alignat*}\n",
    "\n",
    "\n",
    "and saw that the unknown coefficients $a$ are given by\n",
    "\n",
    "\n",
    "$$a_0=y_0,\\;\\;\\;\\;\\; a_1 = \\Delta y_1, \\;\\;\\;\\;\\; a_2 = \\Delta^2 y_2, \\;\\;\\;\\;\\; \\ldots \\;\\;\\;\\;\\; a_N = \\Delta^N y_N.$$\n",
    "\n",
    "\n",
    "Based upon the following pseudo code implement functions to (1) calculate the coefficients of the Newton polynomial, and (2) evaluate it for the purposes of plotting. Check visually that your plotted curve of the interpolant agrees with what we saw for the Lagrange polynomial (obtained either with SciPy our our own implementation: `Lagrange_basis_poly` and `Lagrange_interp_poly`) and passes through our data points - use the same data made up of 6 points we used in the lecture:\n",
    "\n",
    "``` Python\n",
    "xi = np.array([0.5, 2.0, 4.0, 5.0, 7.0, 9.0])\n",
    "yi = np.array([0.5, 0.4, 0.3, 0.1, 0.9, 0.8])\n",
    "```\n",
    "\n",
    "*Pseudo-code / code skeleton:*\n",
    "\n",
    "``` Python\n",
    "def calculate_newton_poly_coeffs(xi, yi):\n",
    "    \"\"\"Function to evaluate the coefficients a_i recursively\n",
    "    using Newton's method.\n",
    "\n",
    "    Parameters\n",
    "    ----------\n",
    "    xi, yi : array_like\n",
    "        The N+1 data points (i = 0, 1, ..., N)\n",
    "\n",
    "    Returns\n",
    "    -------\n",
    "    a : array_like\n",
    "        Array containing the Newton polynomial coefficients\n",
    "    \"\"\"\n",
    "    # initialise the array 'a' with yi, but take a copy to ensure we don't\n",
    "    # overwrite our yi data!\n",
    "    a = yi.copy()\n",
    "\n",
    "    # we have N+1 data points, and so\n",
    "    N = len(a) - 1\n",
    "\n",
    "    # for each k, we compute Δ^k y_i from the a_i = Δ^(k-1) y_i of the previous iteration:\n",
    "    for k in range(1, N+1):\n",
    "        # but only for i>=k\n",
    "        for i in range(k, N+1):\n",
    "            a[i] = *** you need to fill in the maths here ***\n",
    "\n",
    "    return a\n",
    "    \n",
    "    \n",
    "def eval_newton_poly(a, xi, x):\n",
    "    \"\"\"Function to evaluate the Newton polynomial\n",
    "    at x, given the data point xi and the polynomial coeffs a.\n",
    "\n",
    "    a : array_like\n",
    "        Newton polynomial coefficients\n",
    "    xi : array_like\n",
    "        The x-component of the data\n",
    "    x : array_like\n",
    "        Array of x-locations the Newton polynomial is evaluated at\n",
    "\n",
    "    Returns\n",
    "    -------\n",
    "    P : array_like\n",
    "        Newton polynomial values for points x\n",
    "    \"\"\"\n",
    "    N = len(xi) - 1  # polynomial degree\n",
    "    # recursively build up polynomial evaluated at xx\n",
    "    P = a[N]\n",
    "    for k in range(1, N+1):\n",
    "        P = *** you need to fill in the maths here ***\n",
    "        \n",
    "    return P\n",
    "    \n",
    "# set up figure\n",
    "fig = plt.figure(figsize=(8, 6))\n",
    "ax1 = fig.add_subplot(111)\n",
    "\n",
    "# add a small margin \n",
    "ax1.margins(0.1)\n",
    "\n",
    "# Evaluate the coefficients of the Newton polynomial\n",
    "a = calculate_newton_poly_coeffs(xi, yi)\n",
    "# Evaluate the polynomial at high resolution and plot\n",
    "x = np.linspace(0.4, 9.1, 100)\n",
    "ax1.plot(x, eval_poly(a, xi, x), 'b', label='Newton poly')\n",
    "\n",
    "# Overlay raw data\n",
    "plot_raw_data(xi, yi, ax1)\n",
    "ax1.set_title('Newton interpolating polynomial (our implementation)', fontsize=16)\n",
    "\n",
    "# Add a legend\n",
    "ax1.legend(loc='best', fontsize=14);\n",
    "```\n",
    "</div>"
   ]
  },
  {
   "cell_type": "markdown",
   "metadata": {},
   "source": [
    "## Homework - Hat functions and their derivatives\n",
    "\n",
    "Recall that the hat functions we used as basis functions for p/w linear interpolation\n",
    "are defined as\n",
    "\n",
    "$$\n",
    "\\phi_i(x) = \n",
    "\\begin{cases}\n",
    "\\frac{x - x_{i-1}}{\\Delta x_{i-1}}, &\\text{if}\\;\\;\\; x\\in e_{i-1}\\equiv[x_{i-1},x_{i}] \\\\[5pt]\n",
    "\\frac{x_{i+1} - x}{\\Delta x_{i}}, &\\text{if}\\;\\;\\; x\\in e_{i}\\equiv[x_{i},x_{i+1}] \\\\[5pt]\n",
    "0, & \\text{otherwise} \\\\\n",
    "\\end{cases}\n",
    "$$\n",
    "\n",
    "which looks like the following:\n",
    "\n",
    "<img src=\"figures/fem_basis_functions.svg\" style=\"width: 800px\">\n",
    "\n",
    "<br>\n",
    "\n",
    "Compute an analytical expression for their derivatives and write a function to evaluate them. Plot your results, what happens if you have non-uniform interval sizes (distances between data points)?"
   ]
  },
  {
   "cell_type": "code",
   "execution_count": null,
   "metadata": {},
   "outputs": [],
   "source": [
    "x_1 = [1, 2, 3]\n",
    "def phi_dx(i, x):\n",
    "    if x "
   ]
  },
  {
   "cell_type": "markdown",
   "metadata": {},
   "source": [
    "<div class=\"optional\">\n",
    "\n",
    "## Homework - Error bound for polynomial interpolation of the Runge function [$\\star$]\n",
    "\n",
    "We can use SymPy to calculate and then plot the derivatives of the Runge function for example we can do something like\n",
    "\n",
    "``` Python\n",
    "import sympy\n",
    "\n",
    "x = sympy.Symbol('x', real=True)\n",
    "f = 1. / (1. + 25. * x**2)\n",
    "print(\"f(x) = \", (sympy.simplify(f)))\n",
    "f_ = sympy.lambdify(x,f)\n",
    "\n",
    "dfdx = sympy.diff(f, x) \n",
    "print(\"f'(x) = \", (sympy.simplify(dfdx)))\n",
    "dfdx_ = sympy.lambdify(x,dfdx)\n",
    "\n",
    "dfdx2 = sympy.diff(dfdx, x) \n",
    "print(\"f''(x) = \", (sympy.simplify(dfdx2)))\n",
    "dfdx2_ = sympy.lambdify(x,dfdx2)\n",
    "\n",
    "dfdx3 = sympy.diff(dfdx2, x) \n",
    "print(\"f'''(x) = \", (sympy.simplify(dfdx3)))\n",
    "dfdx3_ = sympy.lambdify(x,dfdx3)\n",
    "\n",
    "xf = np.linspace(-1.0, 1.0, 1000)\n",
    "\n",
    "fig, ax = plt.subplots(1, 4, figsize=(12, 4))\n",
    "fig.tight_layout(w_pad=3, h_pad=4)\n",
    "ax[0].plot(xf, f_(xf), 'b'); ax[0].set_title(\"f(x)\")\n",
    "ax[1].plot(xf, dfdx_(xf), 'b'); ax[1].set_title(\"f'(x)\")\n",
    "ax[2].plot(xf, dfdx2_(xf), 'b'); ax[2].set_title(\"f''(x)\")\n",
    "ax[3].plot(xf, dfdx3_(xf), 'b'); ax[3].set_title(\"f'''(x)\")\n",
    "```\n",
    "\n",
    "and to compute an $(N+1)$-st derivative, say, we could do something like\n",
    "\n",
    "``` Python\n",
    "N = 10\n",
    "df = f\n",
    "for i in range(N+1):\n",
    "    df = sympy.diff(df, x) \n",
    "```\n",
    "\n",
    "Play around a bit with SymPy and try plotting our error bound \n",
    "\n",
    "$$\\left| f(x) - P_N(x) \\right| \\le \\frac{1}{(N+1)!}\\, M\\, \\left|\\Psi_N(x)\\right|\n",
    "\\;\\;\\;\\;\\;\\;\\text{where}\\;\\;\\;\\;\\;\\;\n",
    "M:=\\max_{x\\in(a,b)}\\, \\left| f^{(N+1)}(x) \\right|,$$ \n",
    "\n",
    "you should see that as you increase $N$ the error bound gets larger quite rapidly and more and more focused at the end points of our interval.\n",
    "\n",
    "</div>"
   ]
  },
  {
   "cell_type": "markdown",
   "metadata": {},
   "source": [
    "<div class=\"optional\">\n",
    "\n",
    "## Homework - Chebyshev interpolation [$\\star$]\n",
    "\n",
    "Consider the cell in the lecture where we computed and plotted the Chebyshev interpolant using a call to `si.lagrange` (from inside the function `plot_approximation`), i.e. where the loop read\n",
    "\n",
    "``` Python\n",
    "for i, degree in enumerate(degrees):\n",
    "    # the Chebyshev nodes\n",
    "    xi = np.cos((2.0 * np.arange(1, degree+2) - 1.0) * np.pi / (2.0 * (degree+1)))\n",
    "    # compute and plot the Lagrange polynomial using Chebyshev nodes as data locations\n",
    "    plot_approximation(runge, xi, ax[i])\n",
    "    ax[i].plot(xi, runge(xi), 'ko', label='data')\n",
    "    ax[i].set_title('Degree %i' % degree, fontsize=12)\n",
    "    ax[i].legend(loc='best', fontsize=12)\n",
    "```\n",
    "\n",
    "Recreate the four plots that resulted, but update the code (specifically our function `plot_approximation`) so that it instead calls our Lagrangian interpolation function `Lagrange_interp_poly`.\n",
    "\n",
    "</div>"
   ]
  },
  {
   "cell_type": "markdown",
   "metadata": {},
   "source": [
    "<div class=\"advanced\">\n",
    "\n",
    "## Homework - Chebyshev polynomials as basis functions [$\\star\\star$]\n",
    "\n",
    "Recall from lectures that the degree $N$ Lagrange polynomial interpolating $N+1$ data points is given by\n",
    "\n",
    "$$L(x) := \\sum_{i=0}^{N} y_i \\ell_i(x),$$\n",
    "\n",
    "where the $\\ell_i(x)$ are the Lagrange basis functions defined by\n",
    "\n",
    "$$\\ell_i(x) := \\prod_{\\begin{smallmatrix}0\\le m\\le N\\\\ m\\neq i\\end{smallmatrix}} \\frac{x-x_m}{x_i-x_m},$$\n",
    "\n",
    "[note that each of these basis functions is itself a degree $N$ polynomial].\n",
    "\n",
    "A general result is the following:\n",
    "\n",
    "If the $N+1$ data locations, $x_0 < x_1 < \\ldots < x_N,$ are the roots of some (N+1) degree polynomial $\\phi_{N+1}(x)$  (from an [*orthogonal family* of polynomials](https://en.wikipedia.org/wiki/Orthogonal_polynomials), e.g. the [*Chebyshev polynomials*](https://en.wikipedia.org/wiki/Chebyshev_polynomials)) we introduced in lecture and have a nice minimal error property, then the Lagrange basis functions are equivalent to \n",
    "\n",
    "$$\\ell_i(x) \\equiv \\frac{\\phi_{N+1}(x)}{(x - x_i)\\phi'_{N+1}(x_i)},$$\n",
    "\n",
    "where $\\phi'$ is the derivative of $\\phi$.  [See Chebyshev Polynomials, by J.C. Mason, D.C. Handscomb (Chapter 6)].\n",
    "\n",
    "In the specific case we discussed in class where the $x_0 < x_1 < \\ldots < x_N,$ are the roots of the Chebyshev polynomial (which was the choice which minimised the issue we had with interpolation of the Runge function) we have that the Lagrange basis functions are equivalent to\n",
    "\n",
    "$$\\ell_i(x) = \\frac{T_{N+1}(x)}{(N+1)(x - x_i)U_{N}(x_i)},$$\n",
    "\n",
    "where $T$ and $U$ are the Chebyshev polynomials of the first and second kind respectively, i.e. the Lagrange basis functions are equivalent to scaled Chebyshev polynomials.\n",
    "\n",
    "Now of course we end up at the same final interpolating polynomial as we did with the standard Lagrange polynomial approach, but now the basis functions are not all degree $N$ polynomials (as we will see in the code and web links directly below).\n",
    "\n",
    "\n",
    "Try updating our function `Lagrange_interp_poly` so that instead of calling the function `Lagrange_basis_poly` to compute the Lagrange basis functions using the expression at the top of this cell, it calls a new function which computes the basis functions in terms of the above formula involving Chebyshev polynomials of the first ($T$) and second ($U$) kind.  \n",
    "\n",
    "You can use the recurrence relations defining these families of polynomials here: <https://en.wikipedia.org/wiki/Chebyshev_polynomials#Definition>\n",
    "\n",
    "As a hint here is a function which computes the polynomial of the first kind (you'll need to code up the second kind yourself)\n",
    "\n",
    "```Python \n",
    "def Chebyshev_first_kind(N, x):\n",
    "    \"\"\"Function to compute the Chebyshev polynomial of the first kind.\n",
    "\n",
    "    Parameters\n",
    "    ----------\n",
    "    N : int\n",
    "        Degree of the polynomial\n",
    "    x : array_like\n",
    "        Array of x-locations the polynomial is evaluated at\n",
    "\n",
    "    Returns\n",
    "    -------\n",
    "    T : ndarray\n",
    "        Chebyshev polynomial of the first kind evaluated at x\n",
    "    \"\"\"\n",
    "    T = np.zeros((N+1, len(x)))\n",
    "    T[0,:] = 1\n",
    "    if N == 0:\n",
    "        return T\n",
    "    T[1,:] = x\n",
    "    if N == 1:\n",
    "        return T\n",
    "    for n in range(2, N+1):\n",
    "        T[n,:] = 2 * x * T[n-1,:] - T[n-2,:]\n",
    "    return T\n",
    "```\n",
    "\n",
    "And as a further hint, in my solution I replace these lines from `Lagrange_interp_poly`\n",
    "\n",
    "```Python\n",
    "    l = Lagrange_basis_poly(xi, x)\n",
    "    L = np.zeros_like(x)\n",
    "    for i in range(0, len(xi)):\n",
    "        L = L + yi[i]*l[i]\n",
    "```\n",
    "\n",
    "with \n",
    "\n",
    "```Python\n",
    "    T = Chebyshev_first_kind(N+1, x)\n",
    "    U = Chebyshev_second_kind(N, xi)\n",
    "    Chebyshev_interpolant = np.zeros_like(x)\n",
    "    for i in range(0, len(xi)):\n",
    "        Chebyshev_interpolant = Chebyshev_interpolant  \\\n",
    "            + yi[i]*T[-1,:]/((N+1)*(x-xi[i])*U[-1,i])\n",
    "```\n",
    "\n",
    "I called the new function `Chebyshev_interp_poly`.\n",
    "\n",
    "\n",
    "Test your answer by recreating the above plots of the approximation (obtained using `Lagrange_interp_poly`) to the Runge functions using `degrees = [5, 9, 12, 20]`.\n",
    "\n",
    "</div>"
   ]
  },
  {
   "cell_type": "markdown",
   "metadata": {},
   "source": [
    "<div class=\"advanced\">\n",
    "\n",
    "## Homework - Cubic spline interpolation [$\\star\\star$]\n",
    "\n",
    "Write some code to implement and plot a cubic spline and recreate the figure from class obtained using SciPy, based on the theory below. If you get this right and if you do a little bit of extrapolation outside our data range then you will see that the behaviour here does not quite agree with SciPy. Read the SciPy docs to see why this is (consider the default boundary conditions) and redo the SciPy plot to agree with your code.\n",
    "    \n",
    "</div>"
   ]
  },
  {
   "cell_type": "markdown",
   "metadata": {},
   "source": [
    "## Homework - Implement Weddle's rule\n",
    "\n",
    "As explained in the lecture, we can implement Weddle's rule using appropriate calls to the `simpsons_composite_rule` function.\n",
    "\n",
    "Do this and try to recreate the convergence plot from the lecture:\n",
    "\n",
    "<img src=\"./figures/weddle_convergence.png\" width=500x>\n",
    "\n"
   ]
  },
  {
   "cell_type": "code",
   "execution_count": 1,
   "metadata": {},
   "outputs": [],
   "source": [
    "def composite_simpsons_rule(a, b, function, number_intervals=10):\n",
    "    \"\"\"Function to evaluate the composite Simpson's rule only using\n",
    "    function evaluations at (number_intervals + 1) points.\n",
    "    \n",
    "    This implementation requires that the number of subintervals (number_intervals) be even\n",
    "    \"\"\"\n",
    "    assert number_intervals % 2 == 0, \"number_intervals is not even\"\n",
    "\n",
    "    interval_size = (b - a) / number_intervals\n",
    "    # start with the two end member values\n",
    "    I_cS2 = function(a) + function(b)\n",
    "\n",
    "    # add in those terms with a coefficient of 4\n",
    "    for i in range(1, number_intervals, 2):\n",
    "        I_cS2 += 4 * function(a + i * interval_size)\n",
    "\n",
    "    # and those terms with a coefficient of 2\n",
    "    for i in range(2, number_intervals-1, 2):\n",
    "        I_cS2 += 2 * function(a + i * interval_size)\n",
    "\n",
    "    return I_cS2 * (interval_size / 3.0)"
   ]
  },
  {
   "cell_type": "code",
   "execution_count": 2,
   "metadata": {},
   "outputs": [],
   "source": [
    "def weddles_rule(a, b, function, number_intervals=10):\n",
    "        inps_2 = [a, b, function, number_intervals*2]\n",
    "        inps = [a, b, function, number_intervals]\n",
    "        \n",
    "        I_s_2 = composite_simpsons_rule(*inps)\n",
    "        I_s = composite_simpsons_rule(*inps_2)\n",
    "        \n",
    "        return I_s_2 + ((I_s_2 - I_s) / 15)"
   ]
  },
  {
   "cell_type": "code",
   "execution_count": 23,
   "metadata": {},
   "outputs": [],
   "source": [
    "f = lambda x : x**2\n",
    "f_aoc = lambda a, b : (b ** 3) / 3 - (a ** 3) / 3"
   ]
  },
  {
   "cell_type": "code",
   "execution_count": 7,
   "metadata": {},
   "outputs": [],
   "source": [
    "import matplotlib.pyplot as plt"
   ]
  },
  {
   "cell_type": "code",
   "execution_count": 11,
   "metadata": {},
   "outputs": [],
   "source": [
    "import numpy as np"
   ]
  },
  {
   "cell_type": "code",
   "execution_count": 12,
   "metadata": {
    "collapsed": true
   },
   "outputs": [
    {
     "data": {
      "text/plain": [
       "[<matplotlib.lines.Line2D at 0x7f19d0cb6810>]"
      ]
     },
     "execution_count": 12,
     "metadata": {},
     "output_type": "execute_result"
    },
    {
     "data": {
      "image/png": "[encoded data removed]",
      "text/plain": [
       "<Figure size 640x480 with 1 Axes>"
      ]
     },
     "metadata": {},
     "output_type": "display_data"
    }
   ],
   "source": [
    "x = np.array([0,1,2,3,4,5])\n",
    "plt.plot(x, f(x))"
   ]
  },
  {
   "cell_type": "code",
   "execution_count": 36,
   "metadata": {
    "scrolled": true
   },
   "outputs": [
    {
     "name": "stdout",
     "output_type": "stream",
     "text": [
      "0.0\n",
      "0.0\n",
      "0.0\n",
      "0.0\n",
      "0.0\n",
      "0.0\n"
     ]
    },
    {
     "data": {
      "text/plain": [
       "[<matplotlib.lines.Line2D at 0x7f19d06da410>]"
      ]
     },
     "execution_count": 36,
     "metadata": {},
     "output_type": "execute_result"
    },
    {
     "name": "stderr",
     "output_type": "stream",
     "text": [
      "/home/javonne/anaconda3/envs/ese-msc/lib/python3.11/site-packages/IPython/core/events.py:93: UserWarning: Data has no positive values, and therefore cannot be log-scaled.\n",
      "  func(*args, **kwargs)\n"
     ]
    },
    {
     "data": {
      "image/png": "[encoded data removed]",
      "text/plain": [
       "<Figure size 640x480 with 1 Axes>"
      ]
     },
     "metadata": {},
     "output_type": "display_data"
    }
   ],
   "source": [
    "# error:\n",
    "for i in x:\n",
    "    errors = []\n",
    "    analytical_solution = f_aoc(x[0], x[-1]) \n",
    "    weddle_estimate = weddles_rule(\n",
    "        a=x[0], \n",
    "        b=x[-1], \n",
    "        function=f, \n",
    "        number_intervals=1)\n",
    "    \n",
    "    error = abs(weddle_estimate-analytical_solution)\n",
    "    print(error)\n",
    "    errors.append(error)\n",
    "    \n",
    "fig, ax = plt.subplots(1,1)\n",
    "ax.loglog(errors)"
   ]
  },
  {
   "cell_type": "code",
   "execution_count": null,
   "metadata": {},
   "outputs": [],
   "source": []
  },
  {
   "cell_type": "markdown",
   "metadata": {},
   "source": [
    "<div class=\"optional\">\n",
    "    \n",
    "## Homework - Midpoint rule error [$\\star$]\n",
    "\n",
    "In class we stated that a bound on the midpoint rule's error is given by\n",
    "\n",
    "$$ \\left| E_M^n \\right| \\le \\frac{(b-a)^3}{24n^2}  \\max_{x\\in[a,b]}\\, \\left| f''(x) \\right|. $$\n",
    "\n",
    "And we noted that for midpoint (and all odd order Newton-Cotes rules including Simpson's rule) we gain an order of precision/accuracy over what we might expect, i.e. here this error bound indicates that the method is second-order accurate\n",
    "and integrates linear polynomials exactly.\n",
    "\n",
    "If we follow the error bound derivation we performed in lecture for the Trapezoidal rule, we would progress by\n",
    "taking $N=0$ (as the midpoint rule is fitting a constant, degree zero, function) and using our Lagrange remainder result to estimate the *interpolation error* over the interval $[a,b]$ as:\n",
    "\n",
    "$$R_0(x) = \\left(x - \\frac{1}{2}(a+b)\\right) {f'(c_x)}.$$\n",
    "\n",
    "Our Midpoint rule quadrature error over a single interval $[a,b]$ could then be estimated via\n",
    "\n",
    "\\begin{align*}\n",
    "E_M \\equiv E_0 = I - I_0 \n",
    "&= \\int_{a}^{b} f\\left ( x \\right )\\, dx - \\int_a^b\\,P_0\\left ( x \\right )\\,dx \\\\[5pt]\n",
    "&= \\int_{a}^{b} f\\left ( x \\right ) - P_0\\left ( x \\right ) \\, dx\\\\[5pt] \n",
    "&= \\int_{a}^{b} R_0\\left ( x \\right )\\, dx.\n",
    "\\end{align*}\n",
    "\n",
    "Substitute in the above expression for $R_0(x)$ and demonstrate that this leading order term in the error expansion is indeed zero.\n",
    "\n",
    "Once you've convinced yourself of this I suggest take a look at my derivation of the error bound in the sample solution which involves taking the next order term in the Taylor series expansion about the midpoint of an interval.\n",
    "\n",
    "</div>"
   ]
  },
  {
   "cell_type": "markdown",
   "metadata": {},
   "source": [
    "<div class=\"advanced\">\n",
    "\n",
    "## Homework - Derive Simpson's rule as quadratic fit [$\\star\\star$]\n",
    "\n",
    "We stated in the lecture that:\n",
    "\n",
    "Note that an alternate derivation of the same rule involves fitting a *quadratic function* (i.e. $P_2(x)$ rather than the constant and linear approximations already considered) that interpolates the integral at the two end points of the interval, $a$ and $b$, as well as at the midpoint, $c = \\left ( a+b\\right )/2$, and calculating the integral under that polynomial approximation. We'll come back to this idea a bit later.\n",
    "\n",
    "Take a look also at the Newton-Cotes section of the lecture where we derived the Trapezoidal rule with the choice $N=1$. We arrive at Simpson's (1/3) rule if we repeat this process with $N=2$.\n",
    "\n",
    "Do this.\n",
    "\n",
    "<br>\n",
    "         \n",
    "**Hint:** Note that following the derivation of the Trapezoidal rule from lectures you will need to evaluate integrals of the form\n",
    "\n",
    "\\begin{align*}\n",
    "A_0 &= \\int_{x_0}^{x_2}\\, \\ell_0(x)\\, dx \\\\[5pt]\n",
    "& = \\frac{1}{(x_0-x_1)(x_0-x_2)}\\int_{x_0}^{x_2}\\, (x-x_1)(x - x_2) \\, dx.\n",
    "\\end{align*}\n",
    "\n",
    "This integral is much easier to do if you introduce the new variable (i.e. a [change of variables](https://en.wikipedia.org/wiki/Integration_by_substitution)) $\\xi$ such that $d\\xi = dx$ and $\\xi=0$ corresponds to $x_1$, $\\xi = -h$ corresponds to $x_0$ and $\\xi = h$ corresponds to $x_2$. Note therefore that the interval size $x_2-x_0 = 2h$. \n",
    "\n",
    "Your integral then becomes\n",
    "\n",
    "\\begin{align*}\n",
    "A_0 & = \\frac{1}{(x_0-x_1)(x_0-x_2)}\\int_{x_0}^{x_2}\\, (x-x_1)(x - x_2) \\, dx \\\\[5pt]\n",
    "& = \\frac{1}{(-h)(-2h)}\\int_{-h}^{h}\\, \\xi(\\xi - h) \\, d\\xi = \\ldots = \\frac{h}{3}.\n",
    "\\end{align*}\n",
    "\n",
    "Fill in the gaps and do the other integrals to complete the derivation.\n",
    "\n",
    "</div>"
   ]
  },
  {
   "cell_type": "markdown",
   "metadata": {},
   "source": [
    "<div class=\"advanced\">\n",
    "\n",
    "## Homework - Open vs closed Newton-Cotes [$\\star\\star$]\n",
    "\n",
    "Implement an open Newton-Cotes formula and use it to integrate $1/\\sqrt{x}$  from 0 to 1. \n",
    "\n",
    "**Hint:** Check the open formulae here <https://en.wikipedia.org/wiki/Newton%E2%80%93Cotes_formulas#Open_Newton%E2%80%93Cotes_formulas>.  My solution makes use of  Milne's rule which evaluates the function at the appropriate points within each sub-interval, and so uses more function evaluations for a given number of intervals compared to the composite version of Simpson's rule.\n",
    "\n",
    "Compare your solution with a closed scheme such as Simpson's, e.g. by recreating a convergence plot such as that presented in the Lecture.\n",
    "\n",
    "**Hint:**  Note that to avoid divide by zero warning you could define your integrand via something like:\n",
    "`lambda x: 1./(np.maximum(1e-16,np.sqrt(x)))`\n",
    "    \n",
    "</div>"
   ]
  },
  {
   "cell_type": "markdown",
   "metadata": {},
   "source": [
    "<div class=\"optional\">\n",
    "\n",
    "## Homework - Implement adaptive quadrature [$\\star$]\n",
    "\n",
    "Based on the algorithm description from the lecture, try to implement an adaptive quadrature algorithm and apply it to our complicated function given in the following cell.\n",
    "\n",
    "<br>\n",
    "    \n",
    "**Hint:**  My function and an explanatory docstring starts\n",
    "\n",
    "```Python\n",
    "def adaptive_simpson_recursive(a, b, function, tol, S):\n",
    "    \"\"\" S is a Simpson rule estimate of the integral over interval [a,b]\n",
    "    This function computes S2 by splitting the current interval in half \n",
    "    and evaluating Simpson's rule over each of the two resulting sub-intervals. \n",
    "    It then evaluates an estimate of the quadrature error over the interval as \n",
    "    (S2-S)/15, and if we have not yet reached the desired error tolerance it \n",
    "    divides the current interval [a,b] in two and applies the same function to \n",
    "    each half: [a,c] and [c,b]. \n",
    "    If an error tolerance has been reached it returns the Weddle estimate for\n",
    "    the integral over [a,b]: S2 + (S2 - S)/15.0.\n",
    "    The function recursively sums the result from each subinterval considered. \n",
    "    `locs' is a global variable that contains all the locations we evaluate the\n",
    "    function at.\n",
    "    \"\"\"\n",
    "```\n",
    "\n",
    "<br>\n",
    "\n",
    "**I've listed this as optional rather than advanced as I think it's a good one to work through, but it is quite involved and could easily have been tagged as \"advanced\".**\n",
    "\n",
    "**Note that you should NOT assume I've done this as I'm planning on this being part of the assessment - it will NOT be.**\n",
    "\n",
    "</div>"
   ]
  },
  {
   "cell_type": "code",
   "execution_count": null,
   "metadata": {},
   "outputs": [],
   "source": [
    "# a more complex example (taken from Moin which quotes the exact integral as −0.56681975015)\n",
    "\n",
    "def f(x):\n",
    "    \"\"\"The function we wish to integrate.\n",
    "    \n",
    "    This a more complicated example which has been taken from the book by Moin.\n",
    "    \"\"\"\n",
    "    return (10*np.exp(-50*np.abs(x)) -\n",
    "            (0.01/(np.power(x-0.5, 2) + 0.001)) +\n",
    "            5*np.sin(5*x))\n",
    "\n",
    "# exact solution obtained with (si.quad(f, -1, 1, epsabs=1e-16))\n",
    "# NB. the \"exact\" value given in Moin only to 11 s.f.s: −0.56681975015\n",
    "I_exact = -0.5668197501529302"
   ]
  },
  {
   "cell_type": "markdown",
   "metadata": {},
   "source": [
    "<div class=\"advanced\">\n",
    "    \n",
    "## Homework - Implement a \"composite\" version of Gauss-Legendre quadrature [$\\star\\star$]\n",
    "\n",
    "Implement a \"composite\" version of Gauss-Legendre, i.e. split up the total interval into sub-intervals, apply Gauss-Legendre on each subinterval and sum.\n",
    "\n",
    "Compare this method, for differing degrees, against the composite Simpson rule for our $\\sin$ and more complex function we considered in lecture.\n",
    "\n",
    "</div>"
   ]
  }
 ],
 "metadata": {
  "celltoolbar": "Slideshow",
  "kernelspec": {
   "display_name": "Python 3 (ipykernel)",
   "language": "python",
   "name": "python3"
  },
  "language_info": {
   "codemirror_mode": {
    "name": "ipython",
    "version": 3
   },
   "file_extension": ".py",
   "mimetype": "text/x-python",
   "name": "python",
   "nbconvert_exporter": "python",
   "pygments_lexer": "ipython3",
   "version": "3.11.5"
  },
  "latex_envs": {
   "LaTeX_envs_menu_present": true,
   "autoclose": true,
   "autocomplete": true,
   "bibliofile": "biblio.bib",
   "cite_by": "apalike",
   "current_citInitial": 1,
   "eqLabelWithNumbers": true,
   "eqNumInitial": 1,
   "hotkeys": {
    "equation": "Ctrl-E",
    "itemize": "Ctrl-I"
   },
   "labels_anchors": false,
   "latex_user_defs": false,
   "report_style_numbering": false,
   "user_envs_cfg": true
  },
  "toc": {
   "base_numbering": 1,
   "nav_menu": {},
   "number_sections": true,
   "sideBar": true,
   "skip_h1_title": false,
   "title_cell": "Table of Contents",
   "title_sidebar": "Contents",
   "toc_cell": true,
   "toc_position": {},
   "toc_section_display": true,
   "toc_window_display": false
  }
 },
 "nbformat": 4,
 "nbformat_minor": 1
}
