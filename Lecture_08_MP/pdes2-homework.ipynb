{
 "cells": [
  {
   "cell_type": "code",
   "execution_count": 1,
   "metadata": {},
   "outputs": [
    {
     "data": {
      "text/html": [
       "<style>\n",
       "div.optional {\n",
       "    display: block;\n",
       "    background-color: #d7e2ff;\n",
       "    border-color: #d7e2ff;\n",
       "    border-left: 5px solid #d7e2ff;\n",
       "    padding: 0.5em;\n",
       "}\n",
       "div.advanced {\n",
       "    display: block;\n",
       "    background-color: #fff4d7;\n",
       "    border-color: #fff4d7;\n",
       "    border-left: 5px solid #fff4d7;\n",
       "    padding: 0.5em;\n",
       "}\n",
       "</style>\n"
      ],
      "text/plain": [
       "<IPython.core.display.HTML object>"
      ]
     },
     "metadata": {},
     "output_type": "display_data"
    }
   ],
   "source": [
    "%%html\n",
    "<style>\n",
    "div.optional {\n",
    "    display: block;\n",
    "    background-color: #d7e2ff;\n",
    "    border-color: #d7e2ff;\n",
    "    border-left: 5px solid #d7e2ff;\n",
    "    padding: 0.5em;\n",
    "}\n",
    "div.advanced {\n",
    "    display: block;\n",
    "    background-color: #fff4d7;\n",
    "    border-color: #fff4d7;\n",
    "    border-left: 5px solid #fff4d7;\n",
    "    padding: 0.5em;\n",
    "}\n",
    "</style>"
   ]
  },
  {
   "cell_type": "markdown",
   "metadata": {
    "slideshow": {
     "slide_type": "slide"
    }
   },
   "source": [
    "# Modelling & Numerical Methods <a class=\"tocSkip\">\n",
    "\n",
    "## PDE Solvers: Finite Difference Methods 2 <a class=\"tocSkip\">\n",
    "    \n",
    "### Homework Exercises <a class=\"tocSkip\">"
   ]
  },
  {
   "cell_type": "markdown",
   "metadata": {
    "toc": true
   },
   "source": [
    "<h1>Table of Contents<span class=\"tocSkip\"></span></h1>\n",
    "<div class=\"toc\"><ul class=\"toc-item\"><li><span><a href=\"#Homework\" data-toc-modified-id=\"Homework-1\"><span class=\"toc-item-num\">1&nbsp;&nbsp;</span>Homework</a></span><ul class=\"toc-item\"><li><span><a href=\"#Homework---Upwind-vs-central-discretrisation\" data-toc-modified-id=\"Homework---Upwind-vs-central-discretrisation-1.1\"><span class=\"toc-item-num\">1.1&nbsp;&nbsp;</span>Homework - Upwind vs central discretrisation</a></span></li><li><span><a href=\"#Homework---Larger-stencils-/-higher-orders-of-accuracy-[$\\star$]-[from-Comp-Math]\" data-toc-modified-id=\"Homework---Larger-stencils-/-higher-orders-of-accuracy-[$\\star$]-[from-Comp-Math]-1.2\"><span class=\"toc-item-num\">1.2&nbsp;&nbsp;</span>Homework - Larger stencils / higher orders of accuracy [$\\star$] [from Comp Math]</a></span></li><li><span><a href=\"#Homework---Stability-study-for-advection-diffusion-using-FTCS\" data-toc-modified-id=\"Homework---Stability-study-for-advection-diffusion-using-FTCS-1.3\"><span class=\"toc-item-num\">1.3&nbsp;&nbsp;</span>Homework - Stability study for advection-diffusion using FTCS</a></span></li><li><span><a href=\"#Homework---An-analytical-solution-to-advection-diffusion-[from-Comp-Math]\" data-toc-modified-id=\"Homework---An-analytical-solution-to-advection-diffusion-[from-Comp-Math]-1.4\"><span class=\"toc-item-num\">1.4&nbsp;&nbsp;</span>Homework - An analytical solution to advection-diffusion [from Comp Math]</a></span></li><li><span><a href=\"#Homework---Pure-advection---impact-of-time-step-[from-Comp-Math]\" data-toc-modified-id=\"Homework---Pure-advection---impact-of-time-step-[from-Comp-Math]-1.5\"><span class=\"toc-item-num\">1.5&nbsp;&nbsp;</span>Homework - Pure advection - impact of time step [from Comp Math]</a></span></li></ul></li></ul></div>"
   ]
  },
  {
   "cell_type": "code",
   "execution_count": 4,
   "metadata": {
    "scrolled": false
   },
   "outputs": [],
   "source": [
    "%matplotlib inline\n",
    "import numpy as np\n",
    "import scipy.linalg as sl\n",
    "# we'll start using sparse matrices here\n",
    "import scipy.sparse as sp\n",
    "# and linear algebra functions designed for sparse matrices\n",
    "import scipy.sparse.linalg as spla\n",
    "import matplotlib.pyplot as plt\n",
    "# the following allows us to plot triangles indicating convergence order\n",
    "# from mpltools import annotation\n",
    "\n",
    "# font sizes for plots\n",
    "plt.rcParams['font.size'] = 12\n",
    "plt.rcParams['font.family'] = 'sans-serif'\n",
    "plt.rcParams['font.sans-serif'] = ['Arial', 'Dejavu Sans']"
   ]
  },
  {
   "cell_type": "markdown",
   "metadata": {},
   "source": [
    "# Homework"
   ]
  },
  {
   "cell_type": "markdown",
   "metadata": {},
   "source": [
    "## Homework - Upwind vs central discretrisation\n",
    "\n",
    "Use our codes `BVP_AD_central` and `BVP_AD_upwind` to compute and plot error convergence for these two schemes for our test problem from the lecture with a Peclet number of 10.\n",
    "    \n",
    "Hence, establish that even though the upwind scheme is coupled with a second-order scheme for diffusion, it is the first-order contribution to the overall error which ultimately dominates and so the overall scheme is only first-order accurate.\n"
   ]
  },
  {
   "cell_type": "code",
   "execution_count": null,
   "metadata": {},
   "outputs": [],
   "source": []
  },
  {
   "cell_type": "code",
   "execution_count": 35,
   "metadata": {},
   "outputs": [
    {
     "name": "stdout",
     "output_type": "stream",
     "text": [
      "[-1.00377926e-05  1.00377926e-05  4.83639098e-05  1.21531952e-04\n",
      "  2.61216395e-04  5.27886697e-04  1.03698455e-03  2.00889862e-03\n",
      "  3.86437094e-03  7.40663629e-03  1.41691429e-02  2.70793827e-02\n",
      "  5.17262041e-02  9.87792269e-02  1.88607725e-01  3.60098494e-01\n",
      "  6.87489962e-01  1.31251004e+00]\n",
      "[0.00000000e+00 3.63582646e-05 1.01832508e-04 2.19739031e-04\n",
      " 4.32066006e-04 8.14426061e-04 1.50298300e-03 2.74294164e-03\n",
      " 4.97586873e-03 8.99694105e-03 1.62381191e-02 2.92780884e-02\n",
      " 5.27605657e-02 9.50479920e-02 1.71199515e-01 3.08333766e-01\n",
      " 5.55286183e-01 1.00000000e+00]\n"
     ]
    },
    {
     "data": {
      "image/png": "[encoded data removed]",
      "text/plain": [
       "<Figure size 600x600 with 1 Axes>"
      ]
     },
     "metadata": {},
     "output_type": "display_data"
    }
   ],
   "source": [
    "kappa = 0.005\n",
    "L = 1\n",
    "Pe = 10\n",
    "U = Pe * kappa / L\n",
    "CE = 1\n",
    "\n",
    "def BVP_AD_central(L, U, kappa, CE, N):\n",
    "    \"\"\" function to assemble and solve the AD BVP problem\n",
    "    using central differences for both adv and diff.\n",
    "    \n",
    "    Returns the mesh x and the solution C\n",
    "    \"\"\"\n",
    "    dx = L / N\n",
    "    x = np.linspace(-dx / 2, dx / 2 + L, N + 2)\n",
    "    A = np.zeros((N + 2, N + 2))\n",
    "    b = np.zeros((N + 2))\n",
    "    # interior points\n",
    "    r_diff = kappa / dx**2\n",
    "    r_adv = 0.5 * U / dx\n",
    "    for i in range(1, N + 1):\n",
    "        A[i, i - 1] = r_diff + r_adv\n",
    "        A[i, i] = -2 * r_diff\n",
    "        A[i, i + 1] = r_diff - r_adv\n",
    "        b[i] = 0\n",
    "    # BC1\n",
    "    A[0, 0] = 0.5\n",
    "    A[0, 1] = 0.5\n",
    "    b[0] = 0\n",
    "    # BC2\n",
    "    A[N + 1, N] = 0.5\n",
    "    A[N + 1, N + 1] = 0.5\n",
    "    b[N + 1] = CE  # BC2\n",
    "    # invert matrix\n",
    "    C = np.linalg.solve(A, b)\n",
    "    return x, C\n",
    "errors = []\n",
    "\n",
    "# call function to generate numerical solution\n",
    "x, C = BVP_AD_central(L, U, kappa, CE, 16)\n",
    "\n",
    "# construct the exact solution\n",
    "xf = np.linspace(0, L, 18)\n",
    "Cex = CE * (np.exp(Pe * xf / L) - 1) / (np.exp(Pe) - 1)\n",
    "\n",
    "# find error\n",
    "print(C)\n",
    "print(Cex)\n",
    "error = (Cex - C)\n",
    "\n",
    "\n",
    "# set up figure\n",
    "fig = plt.figure(figsize=(6, 6))\n",
    "ax1 = plt.subplot(111)\n",
    "ax1.plot(xf, Cex, '-k', label='Exact solution')\n",
    "ax1.plot(x, C, 'ob', label='Numerical solution')\n",
    "ax1.set_xlabel('$x/L$', fontsize=16)\n",
    "ax1.set_ylabel('$C/C_E$', fontsize=16)\n",
    "ax1.set_title('Adv-diff BVP - central scheme', fontsize=16)\n",
    "ax1.legend(loc='best', fontsize=14)\n",
    "\n",
    "# to exclude ghost points just restrict the x limit of the plot\n",
    "ax1.set_xlim(-12, 12);\n",
    "ax1.set_ylim(-1, 4);"
   ]
  },
  {
   "cell_type": "code",
   "execution_count": 36,
   "metadata": {},
   "outputs": [
    {
     "data": {
      "text/plain": [
       "[<matplotlib.lines.Line2D at 0x7f4545f01610>]"
      ]
     },
     "execution_count": 36,
     "metadata": {},
     "output_type": "execute_result"
    },
    {
     "data": {
      "image/png": "[encoded data removed]",
      "text/plain": [
       "<Figure size 640x480 with 1 Axes>"
      ]
     },
     "metadata": {},
     "output_type": "display_data"
    }
   ],
   "source": [
    "plt.loglog(error)"
   ]
  },
  {
   "cell_type": "markdown",
   "metadata": {},
   "source": [
    "<div class=\"optional\">\n",
    "\n",
    "## Homework - Larger stencils / higher orders of accuracy [$\\star$] [from Comp Math]\n",
    "\n",
    "We saw in the lecture first- and second-order approximations to the first derivative.\n",
    "\n",
    "By making use of more points (expanding the stencil) it is possible to come up with approximations of arbitrary order.\n",
    "\n",
    "Tables of coefficients, assuming a uniform mesh, can be found at:\n",
    "<https://en.wikipedia.org/wiki/Finite_difference_coefficient>\n",
    "\n",
    "Try expanding our example from the lecture where we computed the first derivative of $\\sin(x)$ at the location $x=0.8$ and plotted the error as a function of $\\Delta x$, with some other examples of finite difference stencils from the tables at that web page.\n",
    "\n",
    "[NB. the part of the question above is quite simple - in the sample solution I demonstrate an implementation of the third order accurate scheme; the part of the question below is more complicated].\n",
    "\n",
    "Note that in the section of that web page titled \"Arbitrary stencil points\" it also gives a matrix system which can be solved for the finite difference coefficients which provides an approximation of arbitrary order derivatices on an arbitrary stencil. \n",
    "\n",
    "For a more in-depth description and derivation take a look at: <http://web.media.mit.edu/~crtaylor/calculator.html>\n",
    "(click on \"How does it work?\").\n",
    "\n",
    "Write some code to construct and solve this matrix system, and hence extend the convergence plot we presented above for the first derivative of $\\sin(x)$ and $x=0.8$ for orders 1-6.\n",
    "\n",
    "</div>"
   ]
  },
  {
   "cell_type": "markdown",
   "metadata": {},
   "source": [
    "## Homework - Stability study for advection-diffusion using FTCS\n",
    "\n",
    "Play around with the example from the lecture in the section \"Stability study for advection-diffusion\". In particular play around with the physical and numerical parameters and investigate further the interplay between these, the locations of eigenvalues in the complex plane, and the observed stability of the numerical solver."
   ]
  },
  {
   "cell_type": "markdown",
   "metadata": {},
   "source": [
    "## Homework - An analytical solution to advection-diffusion [from Comp Math]\n",
    "\n",
    "An exact solution to the advection-diffusion equation is given by\n",
    "\n",
    "\n",
    "$$ c(x,t) = \\frac{1}{\\sqrt{4\\pi \\, \\kappa \\,t}}\\exp\\left  (-\\frac{(x-Ut)^2}{4\\kappa \\, t}\\right).$$\n",
    "\n",
    "\n",
    "1. Note that this holds in an infinite domain - we can make use of it only as long as our numerical solution is far away from boundaries, or in a periodic domain as long as the solution behaviour does not start to encroach on itself.\n",
    "\n",
    "\n",
    "2. The initial condition that this solution corresponds to is a [Dirac-delta function](https://en.wikipedia.org/wiki/Dirac_delta_function). We clearly can't represent this on our mesh as it has infinitesimal thickness - all sorts of problems would arise if we tried to. But what we can do is assume that our simulation starts at some $t>0$ and initialise our problem with the corresponding exact solution (which for $t>0$ is a Gaussian and for sufficiently large times can be represented on our mesh).\n",
    "\n",
    "\n",
    "Write a function to evaluate this exact analytical solution and use it to initialise a simulation and plot a comparison between the exact and analytical solution at later times.\n",
    "\n",
    "I suggest you use periodic boundary conditions (e.g. your starting point could be our function from the lecture `solve_adv_diff_Gaussian2`).\n",
    "\n",
    "First try selecting some appropriate physical and numerical parameters such that you have a stable solution and avoid boundaries. Then try refining the spatial and temporal mesh to see if your solution gets closer to the exact solution."
   ]
  },
  {
   "cell_type": "markdown",
   "metadata": {},
   "source": [
    "## Homework - Pure advection - impact of time step [from Comp Math]\n",
    "\n",
    "Write a solver for a pure advection problem in a periodic domain using forward Euler with upwind differences in space and with a Gaussian initial condition.\n",
    "\n",
    "First test that it works/fails based on the CFL condition.\n",
    "\n",
    "Then update the solver such that it selects the timestep automatically to satisfy a user-defined target Courant number, e.g. look to enforce a Courant number of 0.8."
   ]
  }
 ],
 "metadata": {
  "celltoolbar": "Slideshow",
  "kernelspec": {
   "display_name": "Python 3 (ipykernel)",
   "language": "python",
   "name": "python3"
  },
  "language_info": {
   "codemirror_mode": {
    "name": "ipython",
    "version": 3
   },
   "file_extension": ".py",
   "mimetype": "text/x-python",
   "name": "python",
   "nbconvert_exporter": "python",
   "pygments_lexer": "ipython3",
   "version": "3.11.5"
  },
  "latex_envs": {
   "LaTeX_envs_menu_present": true,
   "autoclose": false,
   "autocomplete": true,
   "bibliofile": "biblio.bib",
   "cite_by": "apalike",
   "current_citInitial": 1,
   "eqLabelWithNumbers": true,
   "eqNumInitial": 1,
   "hotkeys": {
    "equation": "Ctrl-E",
    "itemize": "Ctrl-I"
   },
   "labels_anchors": false,
   "latex_user_defs": false,
   "report_style_numbering": false,
   "user_envs_cfg": false
  },
  "toc": {
   "base_numbering": 1,
   "nav_menu": {},
   "number_sections": true,
   "sideBar": true,
   "skip_h1_title": false,
   "title_cell": "Table of Contents",
   "title_sidebar": "Contents",
   "toc_cell": true,
   "toc_position": {},
   "toc_section_display": true,
   "toc_window_display": false
  }
 },
 "nbformat": 4,
 "nbformat_minor": 1
}
