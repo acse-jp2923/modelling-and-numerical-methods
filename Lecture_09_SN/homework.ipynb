{
 "cells": [
  {
   "cell_type": "code",
   "execution_count": 1,
   "id": "7b0c2cbb",
   "metadata": {},
   "outputs": [
    {
     "name": "stdout",
     "output_type": "stream",
     "text": [
      "%pylab is deprecated, use %matplotlib inline and import the required libraries.\n",
      "Populating the interactive namespace from numpy and matplotlib\n"
     ]
    }
   ],
   "source": [
    "%pylab inline"
   ]
  },
  {
   "cell_type": "code",
   "execution_count": 2,
   "id": "3ace6051",
   "metadata": {},
   "outputs": [],
   "source": [
    "# q2"
   ]
  },
  {
   "cell_type": "code",
   "execution_count": 3,
   "id": "c5aa1446",
   "metadata": {
    "code_folding": []
   },
   "outputs": [],
   "source": [
    "# # example\n",
    "# import math\n",
    "\n",
    "# imax=101\n",
    "# jmax=51\n",
    "\n",
    "# # me\n",
    "# # depth = 100\n",
    "\n",
    "# #pressure\n",
    "# Psi = zeros((imax,jmax))\n",
    "# # each grid point represents this much delta x\n",
    "# dx = 2.0/(imax-1)\n",
    "\n",
    "# # set bottom and top bcs \n",
    "# for i in range(imax):\n",
    "#     x = dx*i\n",
    "#     # bottom\n",
    "#     Psi[i,0] = 200-100*x\n",
    "#     # top\n",
    "#     Psi[i,jmax-1] = 100.0\n",
    "\n",
    "    \n",
    "# # set left and right bcs\n",
    "# for j in range(jmax):\n",
    "#     y = dx*j\n",
    "#     # left\n",
    "#     Psi[0,j] = 200.0-100*y\n",
    "    \n",
    "#     # right\n",
    "#     Psi[imax-1,j] = 100.0*y\n",
    "    \n",
    "# # set initial interior values?\n",
    "# for i in range(1,imax-1,1):\n",
    "#     for j in range(1,jmax-1,1):\n",
    "\n",
    "#         Psi[i,j] = 50.0\n",
    "        \n",
    "# # Initialize the average residual high to enter the loop\n",
    "# residave = 1000.0\n",
    "# # Counter for iterations\n",
    "# cnt=0\n",
    "# # Coefficients for the Jacobi iteration - in the context of a Laplace equation, these would be related to the discretization\n",
    "# a=1.0; b=1.0; c=1.0; d=1.0; e=-4.0; f=0.0\n",
    "\n",
    "# # Copy of the Psi array to keep the old values during iteration\n",
    "# Psi_old = copy(Psi)\n",
    "\n",
    "# # Loop until the average residual is less than the convergence criterion\n",
    "# while residave>1.0e-6:\n",
    "#     # Initialize total of the norms and residuals for this iteration\n",
    "#     norm_tot=0\n",
    "#     residtot=0.0\n",
    "#     # Loop over the internal grid points, skipping the boundaries\n",
    "#     for i in range(1,imax-1,1):\n",
    "#         for j in range(1,jmax-1,1):\n",
    "#             # Calculate the new value of Psi at position (i, j) based on the old values around it\n",
    "#             # This is the Jacobi update, using a five-point stencil\n",
    "#             Psi[i,j] = (f-(a*Psi_old[i+1,j]+b*Psi_old[i-1,j]+c*Psi_old[i,j+1]+d*Psi_old[i,j-1]))/e\n",
    "#             # Accumulate the absolute value of the new Psi for the norm\n",
    "#             norm_tot += abs(Psi[i,j])\n",
    "#             # Accumulate the absolute value of the difference between the old and new Psi for the residual\n",
    "#             residtot += abs(Psi_old[i,j]-Psi[i,j])\n",
    "    \n",
    "#     # Calculate the average residual for this iteration\n",
    "#     residave = residtot / maximum(norm_tot,1.0e-10)\n",
    "#     # Increment the iteration counter\n",
    "#     cnt+=1\n",
    "#     # Swap Psi and Psi_old arrays to prepare for the next iteration\n",
    "#     # This avoids having to make a full copy of the array, which saves time and memory\n",
    "#     temp = Psi\n",
    "#     Psi = Psi_old\n",
    "#     Psi_old = temp\n",
    "    \n",
    "#     # Print the average residual every 100 iterations to monitor convergence\n",
    "#     if cnt%100==0:\n",
    "#         print(\"%g: resid=%f\" % (cnt,residave))\n"
   ]
  },
  {
   "cell_type": "code",
   "execution_count": 4,
   "id": "0934a817",
   "metadata": {},
   "outputs": [],
   "source": [
    "# 10 9 5 0\n",
    "# 10 9 5 0\n",
    "# 10 9 5 0\n"
   ]
  },
  {
   "cell_type": "markdown",
   "id": "409fabca",
   "metadata": {},
   "source": [
    "LHS:\n",
    "On the left hand side there is a 2D electrical flux of 10A/m. \n",
    "\n",
    "TOP/BOTTOM\n",
    "This flux splits evenly out of the top and bottom of the bar, \n",
    "\n",
    "RHS:\n",
    "with the outflowing flux decreasing linearly down to zero at the right hand end of the top and bottom\n",
    "boundaries. \n",
    "\n",
    "There is no flux out of the right hand side of the bar."
   ]
  },
  {
   "cell_type": "code",
   "execution_count": 33,
   "id": "5f98e7aa",
   "metadata": {
    "scrolled": true
   },
   "outputs": [
    {
     "name": "stdout",
     "output_type": "stream",
     "text": [
      "[[ 0.    0.    0.   ...  0.    0.    0.  ]\n",
      " [ 0.05  0.05  0.05 ...  0.05  0.05  0.05]\n",
      " [ 0.1   0.1   0.1  ...  0.1   0.1   0.1 ]\n",
      " ...\n",
      " [ 9.9   9.9   9.9  ...  9.9   9.9   9.9 ]\n",
      " [ 9.95  9.95  9.95 ...  9.95  9.95  9.95]\n",
      " [10.   10.   10.   ... 10.   10.   10.  ]]\n"
     ]
    }
   ],
   "source": [
    "nx=51\n",
    "ny=201\n",
    "\n",
    "x = np.linspace(0, 10, nx)\n",
    "y = np.linspace(0, 10, ny)\n",
    "xv, yv = np.meshgrid(x, y)\n",
    "\n",
    "print(yv)\n"
   ]
  },
  {
   "cell_type": "code",
   "execution_count": 18,
   "id": "675d14f0",
   "metadata": {},
   "outputs": [],
   "source": [
    "# imax=201\n",
    "# jmax=51\n",
    "# dx = 2.0/(imax-1)\n"
   ]
  },
  {
   "cell_type": "code",
   "execution_count": 42,
   "id": "69c1a4e4",
   "metadata": {},
   "outputs": [
    {
     "name": "stdout",
     "output_type": "stream",
     "text": [
      "j\n"
     ]
    },
    {
     "ename": "IndexError",
     "evalue": "index 51 is out of bounds for axis 1 with size 51",
     "output_type": "error",
     "traceback": [
      "\u001b[0;31m---------------------------------------------------------------------------\u001b[0m",
      "\u001b[0;31mIndexError\u001b[0m                                Traceback (most recent call last)",
      "Cell \u001b[0;32mIn[42], line 9\u001b[0m\n\u001b[1;32m      7\u001b[0m \u001b[38;5;28;01melif\u001b[39;00m j \u001b[38;5;241m==\u001b[39m \u001b[38;5;241m51\u001b[39m:\n\u001b[1;32m      8\u001b[0m     \u001b[38;5;28mprint\u001b[39m(\u001b[38;5;124m\"\u001b[39m\u001b[38;5;124mj\u001b[39m\u001b[38;5;124m\"\u001b[39m)\n\u001b[0;32m----> 9\u001b[0m yv[i,j] \u001b[38;5;241m=\u001b[39m \u001b[38;5;241m0.0\u001b[39m\n",
      "\u001b[0;31mIndexError\u001b[0m: index 51 is out of bounds for axis 1 with size 51"
     ]
    }
   ],
   "source": [
    "# set initial interior values?\n",
    "for i in range(1,imax-1,1):\n",
    "#     for j in range(1,jmax-1,1):\n",
    "    for j in range(0,jmax-1,1):\n",
    "        if i == 51:\n",
    "            print(\"i\")\n",
    "        elif j == 51:\n",
    "            print(\"j\")\n",
    "        yv[i,j] = 0.0\n",
    "        "
   ]
  },
  {
   "cell_type": "code",
   "execution_count": 32,
   "id": "5b90eecc",
   "metadata": {
    "scrolled": true
   },
   "outputs": [
    {
     "name": "stdout",
     "output_type": "stream",
     "text": [
      "[10. 10. 10. 10. 10. 10. 10. 10. 10. 10. 10. 10. 10. 10. 10. 10. 10. 10.\n",
      " 10. 10. 10. 10. 10. 10. 10. 10. 10. 10. 10. 10. 10. 10. 10. 10. 10. 10.\n",
      " 10. 10. 10. 10. 10. 10. 10. 10. 10. 10. 10. 10. 10. 10. 10.]\n"
     ]
    }
   ],
   "source": [
    "print(yv[::-1][0])\n"
   ]
  },
  {
   "cell_type": "code",
   "execution_count": 30,
   "id": "14fdf06d",
   "metadata": {},
   "outputs": [],
   "source": [
    "import math\n",
    "\n",
    "imax=51\n",
    "jmax=201\n",
    "\n",
    "# me\n",
    "# depth = 100\n",
    "\n",
    "#pressure\n",
    "Psi = zeros((imax,jmax))\n",
    "# each grid point represents this much delta x\n",
    "dx = 2/(imax-1)\n",
    "dy = 0.5/(jmax-1)\n"
   ]
  },
  {
   "cell_type": "code",
   "execution_count": 21,
   "id": "c9eb296f",
   "metadata": {
    "code_folding": [
     0
    ]
   },
   "outputs": [
    {
     "ename": "SyntaxError",
     "evalue": "invalid syntax (1765431520.py, line 26)",
     "output_type": "error",
     "traceback": [
      "\u001b[0;36m  Cell \u001b[0;32mIn[21], line 26\u001b[0;36m\u001b[0m\n\u001b[0;31m    Psi[i,jmax-1] =\u001b[0m\n\u001b[0m                    ^\u001b[0m\n\u001b[0;31mSyntaxError\u001b[0m\u001b[0;31m:\u001b[0m invalid syntax\n"
     ]
    }
   ],
   "source": [
    "# #q2\n",
    "\n",
    "# import math\n",
    "\n",
    "# imax=51\n",
    "# jmax=201\n",
    "\n",
    "# # me\n",
    "# # depth = 100\n",
    "\n",
    "# #pressure\n",
    "# Psi = zeros((imax,jmax))\n",
    "# # each grid point represents this much delta x\n",
    "# dx = 2/(imax-1)\n",
    "# dy = 0.5/(jmax-1)\n",
    "# print(\"--------------\")\n",
    "\n",
    "# print(Psi)\n",
    "# print(\"--------------\")\n",
    "\n",
    "# for i in range(imax):\n",
    "#     x = dx*i\n",
    "#     # BOTTOM\n",
    "#     Psi[i,0] = 10\n",
    "#     # TOP\n",
    "#     Psi[i,jmax-1] = \n",
    "\n",
    "# print(Psi)\n",
    "# print(\"--------------\")\n",
    "    \n",
    "# for j in range(jmax):\n",
    "#     y = dx*j\n",
    "#     # LHS\n",
    "#     Psi[0,j] = \n",
    "    \n",
    "#     # RHS\n",
    "#     Psi[imax-1,j] = \n",
    "    \n",
    "# print(Psi)\n",
    "# print(\"--------------\")\n",
    "# # set initial interior values?\n",
    "# for i in range(1,imax-1,1):\n",
    "#     for j in range(1,jmax-1,1):\n",
    "\n",
    "#         Psi[i,j] = 1\n",
    "\n",
    "# print(Psi)\n",
    "# print(\"--------------\")"
   ]
  },
  {
   "cell_type": "code",
   "execution_count": 22,
   "id": "120098e3",
   "metadata": {},
   "outputs": [],
   "source": [
    "Psi = yv[::-1]"
   ]
  },
  {
   "cell_type": "code",
   "execution_count": 23,
   "id": "f46235c2",
   "metadata": {},
   "outputs": [
    {
     "data": {
      "text/plain": [
       "array([[1., 1., 1., ..., 1., 1., 1.],\n",
       "       [0., 0., 0., ..., 0., 0., 0.],\n",
       "       [0., 0., 0., ..., 0., 0., 0.],\n",
       "       ...,\n",
       "       [0., 0., 0., ..., 0., 0., 0.],\n",
       "       [0., 0., 0., ..., 0., 0., 0.],\n",
       "       [0., 0., 0., ..., 0., 0., 0.]])"
      ]
     },
     "execution_count": 23,
     "metadata": {},
     "output_type": "execute_result"
    }
   ],
   "source": [
    "Psi"
   ]
  },
  {
   "cell_type": "code",
   "execution_count": 24,
   "id": "2b425b1d",
   "metadata": {},
   "outputs": [
    {
     "data": {
      "text/plain": [
       "<matplotlib.image.AxesImage at 0x7f6d561f27d0>"
      ]
     },
     "execution_count": 24,
     "metadata": {},
     "output_type": "execute_result"
    },
    {
     "data": {
      "image/png": "[encoded data removed]",
      "text/plain": [
       "<Figure size 640x480 with 1 Axes>"
      ]
     },
     "metadata": {},
     "output_type": "display_data"
    }
   ],
   "source": [
    "fig1=figure()\n",
    "imshow(Psi.transpose(),origin='lower')"
   ]
  },
  {
   "cell_type": "code",
   "execution_count": null,
   "id": "2305ab99",
   "metadata": {},
   "outputs": [],
   "source": []
  },
  {
   "cell_type": "code",
   "execution_count": 25,
   "id": "12650950",
   "metadata": {},
   "outputs": [
    {
     "name": "stdout",
     "output_type": "stream",
     "text": [
      "100: resid=0.004816\n",
      "200: resid=0.002181\n",
      "300: resid=0.001344\n",
      "400: resid=0.000938\n",
      "500: resid=0.000699\n",
      "600: resid=0.000543\n",
      "700: resid=0.000434\n",
      "800: resid=0.000353\n",
      "900: resid=0.000292\n",
      "1000: resid=0.000245\n",
      "1100: resid=0.000207\n",
      "1200: resid=0.000176\n",
      "1300: resid=0.000151\n",
      "1400: resid=0.000130\n",
      "1500: resid=0.000112\n",
      "1600: resid=0.000097\n",
      "1700: resid=0.000085\n",
      "1800: resid=0.000074\n",
      "1900: resid=0.000065\n",
      "2000: resid=0.000057\n",
      "2100: resid=0.000050\n",
      "2200: resid=0.000044\n",
      "2300: resid=0.000039\n",
      "2400: resid=0.000034\n",
      "2500: resid=0.000030\n",
      "2600: resid=0.000027\n",
      "2700: resid=0.000024\n",
      "2800: resid=0.000021\n",
      "2900: resid=0.000019\n",
      "3000: resid=0.000017\n",
      "3100: resid=0.000015\n",
      "3200: resid=0.000013\n",
      "3300: resid=0.000012\n",
      "3400: resid=0.000011\n"
     ]
    }
   ],
   "source": [
    "# Initialize the average residual high to enter the loop\n",
    "residave = 1000.0\n",
    "# Counter for iterations\n",
    "cnt=0\n",
    "# Coefficients for the Jacobi iteration - in the context of a Laplace equation, these would be related to the discretization\n",
    "a=1.0; b=1.0; c=1.0; d=1.0; e=-4.0; f=0.0\n",
    "\n",
    "# Copy of the Psi array to keep the old values during iteration\n",
    "Psi_old = copy(Psi)\n",
    "\n",
    "# Loop until the average residual is less than the convergence criterion\n",
    "while residave>1.0e-5:#6\n",
    "    # Initialize total of the norms and residuals for this iteration\n",
    "    norm_tot=0\n",
    "    residtot=0.0\n",
    "    # Loop over the internal grid points, skipping the boundaries\n",
    "    for i in range(1,imax-1,1):\n",
    "        for j in range(0,jmax-1,1):\n",
    "            # Calculate the new value of Psi at position (i, j) based on the old values around it\n",
    "            # This is the Jacobi update, using a five-point stencil\n",
    "            Psi[i,j] = (f-(a*Psi_old[i+1,j]+b*Psi_old[i-1,j]+c*Psi_old[i,j+1]+d*Psi_old[i,j-1]))/e\n",
    "            # Accumulate the absolute value of the new Psi for the norm\n",
    "            norm_tot += abs(Psi[i,j])\n",
    "            # Accumulate the absolute value of the difference between the old and new Psi for the residual\n",
    "            residtot += abs(Psi_old[i,j]-Psi[i,j])\n",
    "    \n",
    "    # Calculate the average residual for this iteration\n",
    "    residave = residtot / maximum(norm_tot,1.0e-10)\n",
    "    # Increment the iteration counter\n",
    "    cnt+=1\n",
    "    # Swap Psi and Psi_old arrays to prepare for the next iteration\n",
    "    # This avoids having to make a full copy of the array, which saves time and memory\n",
    "    temp = Psi\n",
    "    Psi = Psi_old\n",
    "    Psi_old = temp\n",
    "    \n",
    "    # Print the average residual every 100 iterations to monitor convergence\n",
    "    if cnt%100==0:\n",
    "        print(\"%g: resid=%f\" % (cnt,residave))"
   ]
  },
  {
   "cell_type": "code",
   "execution_count": 26,
   "id": "a0b9dd47",
   "metadata": {},
   "outputs": [
    {
     "data": {
      "text/plain": [
       "<matplotlib.image.AxesImage at 0x7f6d56022710>"
      ]
     },
     "execution_count": 26,
     "metadata": {},
     "output_type": "execute_result"
    },
    {
     "data": {
      "image/png": "[encoded data removed]",
      "text/plain": [
       "<Figure size 640x480 with 1 Axes>"
      ]
     },
     "metadata": {},
     "output_type": "display_data"
    }
   ],
   "source": [
    "fig1=figure()\n",
    "imshow(Psi.transpose(),origin='lower')"
   ]
  },
  {
   "cell_type": "code",
   "execution_count": 27,
   "id": "4a8fb568",
   "metadata": {
    "code_folding": []
   },
   "outputs": [
    {
     "ename": "NameError",
     "evalue": "name 'dx' is not defined",
     "output_type": "error",
     "traceback": [
      "\u001b[0;31m---------------------------------------------------------------------------\u001b[0m",
      "\u001b[0;31mNameError\u001b[0m                                 Traceback (most recent call last)",
      "Cell \u001b[0;32mIn[27], line 11\u001b[0m\n\u001b[1;32m      9\u001b[0m     fx[i,j]\u001b[38;5;241m=\u001b[39m(Psi[i,j]\u001b[38;5;241m-\u001b[39mPsi[i,j\u001b[38;5;241m-\u001b[39m\u001b[38;5;241m1\u001b[39m])\u001b[38;5;241m/\u001b[39mdx\n\u001b[1;32m     10\u001b[0m \u001b[38;5;28;01melse\u001b[39;00m:\n\u001b[0;32m---> 11\u001b[0m     fx[i,j]\u001b[38;5;241m=\u001b[39m(Psi[i,j\u001b[38;5;241m+\u001b[39m\u001b[38;5;241m1\u001b[39m]\u001b[38;5;241m-\u001b[39mPsi[i,j])\u001b[38;5;241m/\u001b[39mdx\n\u001b[1;32m     13\u001b[0m \u001b[38;5;28;01mif\u001b[39;00m i\u001b[38;5;241m>\u001b[39m\u001b[38;5;241m0\u001b[39m \u001b[38;5;129;01mand\u001b[39;00m i\u001b[38;5;241m<\u001b[39mimax\u001b[38;5;241m-\u001b[39m\u001b[38;5;241m1\u001b[39m:\n\u001b[1;32m     14\u001b[0m     fy[i,j]\u001b[38;5;241m=\u001b[39m\u001b[38;5;241m-\u001b[39m(Psi[i\u001b[38;5;241m+\u001b[39m\u001b[38;5;241m1\u001b[39m,j]\u001b[38;5;241m-\u001b[39mPsi[i\u001b[38;5;241m-\u001b[39m\u001b[38;5;241m1\u001b[39m,j])\u001b[38;5;241m/\u001b[39m(\u001b[38;5;241m2.\u001b[39m\u001b[38;5;241m*\u001b[39mdx)\n",
      "\u001b[0;31mNameError\u001b[0m: name 'dx' is not defined"
     ]
    }
   ],
   "source": [
    "fx=zeros((imax,jmax))\n",
    "fy=zeros((imax,jmax))\n",
    "\n",
    "for i in range(0,imax,1):\n",
    "    for j in range(0,jmax,1):\n",
    "        if j>0 and j<jmax-1:\n",
    "            fx[i,j]=(Psi[i,j+1]-Psi[i,j-1])/(2.*dx)\n",
    "        elif j>0:\n",
    "            fx[i,j]=(Psi[i,j]-Psi[i,j-1])/dx\n",
    "        else:\n",
    "            fx[i,j]=(Psi[i,j+1]-Psi[i,j])/dx\n",
    "            \n",
    "        if i>0 and i<imax-1:\n",
    "            fy[i,j]=-(Psi[i+1,j]-Psi[i-1,j])/(2.*dx)\n",
    "        elif i>0:\n",
    "            fy[i,j]=-(Psi[i,j]-Psi[i-1,j])/dx\n",
    "        else:\n",
    "            fy[i,j]=-(Psi[i+1,j]-Psi[i,j])/dx\n",
    "        "
   ]
  },
  {
   "cell_type": "code",
   "execution_count": null,
   "id": "ec4c3e71",
   "metadata": {},
   "outputs": [],
   "source": [
    "stride = 10\n",
    "quiver(fx.transpose()[::stride,::stride],fy.transpose()[::stride,::stride])"
   ]
  },
  {
   "cell_type": "code",
   "execution_count": null,
   "id": "89dc2342",
   "metadata": {},
   "outputs": [],
   "source": []
  },
  {
   "cell_type": "code",
   "execution_count": null,
   "id": "6190caaa",
   "metadata": {},
   "outputs": [],
   "source": []
  },
  {
   "cell_type": "code",
   "execution_count": null,
   "id": "5a2a1fe2",
   "metadata": {},
   "outputs": [],
   "source": []
  },
  {
   "cell_type": "code",
   "execution_count": null,
   "id": "f88e31a1",
   "metadata": {},
   "outputs": [],
   "source": []
  },
  {
   "cell_type": "code",
   "execution_count": null,
   "id": "b2b4d407",
   "metadata": {},
   "outputs": [],
   "source": []
  },
  {
   "cell_type": "code",
   "execution_count": null,
   "id": "e89cf911",
   "metadata": {},
   "outputs": [],
   "source": []
  },
  {
   "cell_type": "code",
   "execution_count": null,
   "id": "5f7adf6a",
   "metadata": {},
   "outputs": [],
   "source": []
  }
 ],
 "metadata": {
  "kernelspec": {
   "display_name": "Python 3 (ipykernel)",
   "language": "python",
   "name": "python3"
  },
  "language_info": {
   "codemirror_mode": {
    "name": "ipython",
    "version": 3
   },
   "file_extension": ".py",
   "mimetype": "text/x-python",
   "name": "python",
   "nbconvert_exporter": "python",
   "pygments_lexer": "ipython3",
   "version": "3.11.5"
  }
 },
 "nbformat": 4,
 "nbformat_minor": 5
}
